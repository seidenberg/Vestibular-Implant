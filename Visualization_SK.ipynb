{
 "cells": [
  {
   "cell_type": "code",
   "execution_count": null,
   "metadata": {},
   "outputs": [],
   "source": [
    "\"\"\"\n",
    "Computer Simulations of Sensory Systems\n",
    "Exercise 3: The Vestibular System - Vestibular Implant Simulation\n",
    "\n",
    "Authors: Vitaliy Banov, Savina Kim, Ephraim Seidenberg\n",
    "Emails: vitanov@ruri.waseda.jp, savkim@ethz.ch, sephraim@ethz.ch\n",
    "    \n",
    "Date: [ ]\n",
    "\n",
    "Description:\n",
    "    The vestibular system plays a critical role in our sensory system helping us stabilize our visual understanding and maintaining \n",
    "    balance such as our head and body postures. As a result, this system is necessary to orient ourselves in space. \n",
    "    The following program aims to simulate a vestibular implant with the following: first we read in input data from \n",
    "    an IMU sensor, calculate cupular displacement, understand the acceleration of an otolith hair cell then \n",
    "    conclude with an optional visualization of the nose orientation during the movement task. \n",
    "    \n",
   
    "\n",
    "\"\"\""
   ]
  },
  {
   "cell_type": "code",
   "execution_count": 11,
   "metadata": {},
   "outputs": [],
   "source": [
    "# Import standard packages\n",
    "import numpy as np\n",
    "import matplotlib\n",
    "matplotlib.use(\"TkAgg\")  # to avoid crash when using tkinter\n",
    "import matplotlib.pyplot as plt\n",
    "import pandas as pd\n",
    "\n",
    "# Special imports\n",
    "import skinematics as skin  \n",
    "import getXsens as Xsens   \n",
    "import scipy.signal as ss\n",
    "from tkinter import *\n",
    "from tkinter import messagebox\n",
    "from tkinter import filedialog\n"
   ]
  },
  {
   "cell_type": "code",
   "execution_count": 12,
   "metadata": {},
   "outputs": [],
   "source": [
    "root = Tk()  # Tkinter window for graphical selection of input file.\n",
    "root.title('Please close this window')  # Shows an unwanted window\n",
    "root.update()  # To close window \n",
    "path = filedialog.askopenfilename(title='Please pick your file:')\n",
    "data = Xsens.getXSensData(path, ['Acc', 'Gyr'])  # 3D-acceleration and 3D-angular-velocity\n",
    "\n",
    "# acc_t0_sensor = data[1][0]  # read in Acc_X, Axx_Y, Acc_Z @ t=0\n",
    "# print(acc_t0_sensor)\n",
    "\n",
    "# acc_t0_sensor = data[2]  # read in Acc_X, Axx_Y, Acc_Z @ t=0\n",
    "# print(acc_t0_sensor)\n"
   ]
  },
  {
   "cell_type": "code",
   "execution_count": 17,
   "metadata": {},
   "outputs": [],
   "source": [
    "def main():\n",
    "\n",
    "    # Select input file for data read in \n",
    "    root = Tk()  # Tkinter window for graphical selection of input file.\n",
    "    root.title('Please Close Me')  # Shows us an unwanted window.\n",
    "    root.update()  # To close window after text file \n",
    "    path = filedialog.askopenfilename(title='Please pick your file:')\n",
    "    data = Xsens.getXSensData(path, ['Acc', 'Gyr'])  # 3D-acceleration and 3D-angular-velocity\n",
    "    \n",
    "    # Find initial IMU orientation, q0 @ t=0\n",
    "    x = [1, 0, 0]\n",
    "    y = [0, 0, 1]\n",
    "    z = [0, -1, 0]\n",
    "    R_approx = np.column_stack((x, y, z))  # IMU orientation @ t=0\n",
    "    acc_t0_sensor = data[1][0]  # read in Acc_X, Acc_Y, Acc_Z @ t=0\n",
    "    \n",
    "    # Calculate IMU orientation @ t=0 (quaternion = q0, rotation matrix = R_total)\n",
    "    gravity = np.array([0,9.806,0])  # gravity vector\n",
    "    q_short = skin.vector.q_shortest_rotation(acc_t0_sensor,gravity)  # Quaternion indicating shortest rotation from one vector into another (sensor->gravity)\n",
    "    R_short = skin.quat.convert(q_short)  # Convert quaternion to corresponding rotation matrix\n",
    "    R_total = np.dot(R_approx,R_short)  # align sensor to gravity\n",
    "\n",
    "    ang_vel_re_sensor = data[2]  # Read in Gyr_X, Gyr_Y, Gyr_Z, 3D-angular-velocity w.r.t. IMU sensor's coordinate system\n",
    "    ang_vel_re_head = np.dot(R_total, ang_vel_re_sensor.T)  # 3D-angular-velocity w.r.t. space\n",
    "    \n",
    "    # Head orientation w.r.t. space while moving\n",
    "    orient_head = np.array([0, 0, 0])  # Head orientation @ t=0\n",
    "    head_orient_quat = skin.quat.calc_quat(ang_vel_re_head.T,q0=orient_head, rate=100, CStype='bf')  # orientation quaternions\n",
    "    \n",
    "    # Direction of nose while moving\n",
    "    head_orient_qvec = skin.quat.q_vector(head_orient_quat)  # extracts vector part of quaternion\n",
    "    nose = np.array([1, 0, 0])  # orientation of nose at t=0\n",
    "    \n",
    "    # Calculate shortest rotation of nose vector to head orientation\n",
    "    nose_orient = skin.vector.rotate_vector(nose, head_orient_qvec)\n",
    "    \n",
    "    # Ask if user wants to see video output of nose orientation \n",
    "    answer = messagebox.askyesno(\"Question\", \"Do you want to see the nose orientation video output? \"\n",
    "                                \"\\n\\n (This may take some time to compute, please be patient)\\n\")\n",
    "\n",
    "    # Call visualise nose function \n",
    "    visualize_nose(path = path, data=nose_orient, ans=answer)\n"
   ]
  },
  {
   "cell_type": "code",
   "execution_count": 18,
   "metadata": {},
   "outputs": [],
   "source": [
    "def visualize_nose(path, data, ans=False):\n",
    "\n",
    "    \"\"\"\n",
    "    Execution of this function will generate a video to show the orientation of the nose.\n",
    "    \n",
    "    Params:\n",
    "    ans - boolean True/False answer as to whether the visualization should be performed or not.\n",
    "    path - path to which mp4 file should be saved\n",
    "    data - nose orientation \n",
    "    \"\"\"\n",
    "\n",
    "    if ans:\n",
    "        plt.show()\n",
    "        print(\"Please wait while the video is being created...\")\n",
    "        path_nose_vid = re.sub('/Walking_02.txt$','/Nose_Orientation_Visualization.mp4', path)\n",
    "        try:\n",
    "            skin.view.orientation(data, out_file=path_nose_vid, title_text='Nose Orientation Visual', deltaT=20)\n",
    "        except AttributeError:\n",
    "            print('Done.')\n",
    "    else:\n",
    "        messagebox.showinfo(\"Information\", \"We are all done!\")\n",
    "        plt.show()\n"
   ]
  },
  {
   "cell_type": "code",
   "execution_count": null,
   "metadata": {},
   "outputs": [
    {
     "name": "stdout",
     "output_type": "stream",
     "text": [
      "Please wait while the video is being created...\n"
     ]
    },
    {
     "name": "stderr",
     "output_type": "stream",
     "text": [
      "MovieWriter ffmpeg unavailable.\n"
     ]
    },
    {
     "name": "stdout",
     "output_type": "stream",
     "text": [
      "Sorry, no animation saved!\n",
      "You probably have to install \"ffmpeg\", and add it to your PATH.\n"
     ]
    }
   ],
   "source": [
    "if __name__ == \"__main__\":\n",
    "\n",
    "    main()\n"
   ]
  }
 ],
 "metadata": {
  "kernelspec": {
   "display_name": "Python [conda env:root] *",
   "language": "python",
   "name": "conda-root-py"
  },
  "language_info": {
   "codemirror_mode": {
    "name": "ipython",
    "version": 3
   },
   "file_extension": ".py",
   "mimetype": "text/x-python",
   "name": "python",
   "nbconvert_exporter": "python",
   "pygments_lexer": "ipython3",
   "version": "3.6.5"
  }
 },
 "nbformat": 4,
 "nbformat_minor": 2
}
